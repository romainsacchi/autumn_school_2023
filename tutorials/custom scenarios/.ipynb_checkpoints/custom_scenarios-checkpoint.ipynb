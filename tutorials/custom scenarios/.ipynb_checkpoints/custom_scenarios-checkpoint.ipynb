{
 "cells": [
  {
   "cell_type": "markdown",
   "id": "ecc8a830-ac86-48ea-a932-f5221c61fdf9",
   "metadata": {},
   "source": [
    "## Custom scenarios using `premise`\n",
    "\n",
    "#### Github repository: [https://github.com/premise-community-scenarios](https://github.com/premise-community-scenarios)\n",
    "#### Documentation: [https://premise.readthedocs.io/en/latest/user_scenarios.html](https://premise.readthedocs.io/en/latest/user_scenarios.html)\n",
    "#### Tutorial author: Romain Sacchi\n",
    "#### Duration: 1-1.5 hours"
   ]
  },
  {
   "cell_type": "markdown",
   "id": "610f0047-e5b8-4a39-975e-d4388532354b",
   "metadata": {},
   "source": [
    "`premise` accepts [`datapackages`](https://specs.frictionlessdata.io/data-package/) which contain enough information to build and implement a scenario.\n",
    "\n",
    "Datapackages for `premise` essentially contain:\n",
    "1. a datapackage.json file, describing the resources contained by the datapackage\n",
    "2. an inventory file (optional), if `premise` needs to import some inventories not present in ecoinvent\n",
    "3. a scenario data table, contianing variables and their values for each time step\n",
    "4. a config-yaml file, telling `premise` how to interpret the variables contained in the scenario data table."
   ]
  },
  {
   "cell_type": "markdown",
   "id": "06e4a357-f23f-42c8-83ab-9d8f8a3b9b3c",
   "metadata": {},
   "source": [
    "In this exercise, we will want to model a market for bread which will present varying shares for three bread recipes:\n",
    "\n",
    "* Activated Dough Development\n",
    "* Straight Dough Method\n",
    "* Delayed Salt Method\n",
    "\n",
    "The resulting datapackage [already exists](https://github.com/premise-community-scenarios/scenario-example-bread), should you fail at running yours."
   ]
  },
  {
   "cell_type": "markdown",
   "id": "9aa50192-bdcc-4a1b-9fc7-2f217b33a10a",
   "metadata": {},
   "source": [
    "### 1. Create a datapackage\n",
    "\n",
    "The easiest way is probably to get a copy of an existing one and adapt it to your purpose.\n",
    "But, for this exercise, we can create one from scratch."
   ]
  },
  {
   "cell_type": "markdown",
   "id": "69873d1f-6b8f-4d33-83b8-e8e1e4962c99",
   "metadata": {},
   "source": [
    "#### Install the datapackage library:\n",
    "If you haven't already, you need to install the library. This can be done using pip:\n",
    "\n",
    "    pip install datapackage\n",
    "\n",
    "#### Create a data package:\n",
    "You can create a new Package object, which will represent your data package.\n",
    "\n",
    "#### Add metadata to the data package:\n",
    "The Package object allows you to set various metadata attributes.\n",
    "\n",
    "### Save the data package to disk:\n",
    "Once you've set all your desired metadata, you can save the datapackage.json file to disk."
   ]
  },
  {
   "cell_type": "markdown",
   "id": "a73c7b0b-4baa-43a0-8ebe-af4b8d6db278",
   "metadata": {},
   "source": [
    "In our case, we want to create a datapackage.json file, which points to three resources: a config.yaml file, a scenario data file and a LCI file."
   ]
  },
  {
   "cell_type": "code",
   "execution_count": null,
   "id": "998f679f-22d5-44e3-bb43-38045806571b",
   "metadata": {},
   "outputs": [],
   "source": [
    "from datapackage import Package\n",
    "\n",
    "# Set package metadata\n",
    "descriptor = {\n",
    "    'profile': 'data-package',\n",
    "    'name': 'scenario-example-bread',\n",
    "    'title': 'Scenario Example Bread',\n",
    "    'description': 'A scenario example of prospective bread scenario to be used in premise',\n",
    "    'version': '0.0.1',\n",
    "    'contributors': [{'title': 'Your name', 'email': 'yourname@email.com'}],\n",
    "    'dependencies': {'premise': '>=1.7.0'},\n",
    "    'ecoinvent': {'version': '3.8', 'system model': 'cut-off'},\n",
    "    # we want to devise 2 scenarios for our bread markets, \n",
    "    # which we associate to 2 IAM scenarios (even though\n",
    "    # we may not eventually use them).\n",
    "    'scenarios': {\n",
    "        'Business As Usual': [{'model': 'image', 'pathway': 'SSP2-Base'}],\n",
    "        'Climate ambitious': [{'model': 'image', 'pathway': 'SSP2-RCP26'}]\n",
    "    },\n",
    "    # we add a license\n",
    "    'licenses': [{\n",
    "        'id': 'CC0-1.0',\n",
    "        'title': 'CC0 1.0',\n",
    "        'url': 'https://creativecommons.org/publicdomain/zero/1.0/'\n",
    "    }],\n",
    "    'resources': [  # We'll add the resources separately later\n",
    "    ]\n",
    "}\n",
    "\n",
    "# Create a new Package object\n",
    "package = Package()\n",
    "\n",
    "# Set package metadata\n",
    "package.descriptor['profile'] = 'data-package'\n",
    "package.descriptor['name'] = 'scenario-example-bread'\n",
    "package.descriptor['title'] = 'Scenario Example Bread'\n",
    "package.descriptor['description'] = 'A scenario example of prospective bread scenario to be used in premise'\n",
    "package.descriptor['version'] = '0.0.1'\n",
    "package.descriptor['contributors'] = [{'title': 'Your name', 'email': 'youremail@email.com'}]\n",
    "package.descriptor['dependencies'] = {'premise': '>=1.7.0'}\n",
    "package.descriptor['ecoinvent'] = {'version': '3.9', 'system model': 'cut-off'}\n",
    "\n",
    "# we want to devise 2 scenarios for our bread markets, \n",
    "# which we associate to 2 IAM scenarios (even though\n",
    "# we may not eventually use them).\n",
    "package.descriptor['scenarios'] = {\n",
    "    'Business As Usual': [{'model': 'image', 'pathway': 'SSP2-Base'}],\n",
    "    'Climate ambitious': [{'model': 'image', 'pathway': 'SSP2-RCP26'}]\n",
    "}\n",
    "# we add a license\n",
    "package.descriptor['licenses'] = [{\n",
    "    'id': 'CC0-1.0',\n",
    "    'title': 'CC0 1.0',\n",
    "    'url': 'https://creativecommons.org/publicdomain/zero/1.0/'\n",
    "}]\n",
    "\n",
    "# We define the first resource\n",
    "# we create a folder \"scenario_dara\" where \n",
    "# we store our scenario_data.csv file there\n",
    "scenario_data_resource = {\n",
    "    'path': 'scenario_data/scenario_data.csv',\n",
    "    'profile': 'tabular-data-resource',\n",
    "    'name': 'scenario_data',\n",
    "    'format': 'csv',\n",
    "    'mediatype': 'text/csv',\n",
    "    'encoding': 'utf-8-sig',\n",
    "    'schema': {\n",
    "        'fields': [\n",
    "            {'name': 'model', 'type': 'string', 'format': 'default'},\n",
    "            {\"name\": \"pathway\", \"type\": \"string\", \"format\": \"default\"},\n",
    "            {\"name\": \"scenario\", \"type\": \"string\", \"format\": \"default\"},\n",
    "            {\"name\": \"region\", \"type\": \"string\", \"format\": \"default\"},\n",
    "            {\"name\": \"variables\", \"type\": \"string\", \"format\": \"default\"},\n",
    "            {\"name\": \"unit\", \"type\": \"string\", \"format\": \"default\"},\n",
    "            {\"name\": \"2005\", \"type\": \"number\", \"format\": \"default\" },\n",
    "            {\"name\": \"2015\", \"type\": \"number\", \"format\": \"default\" },\n",
    "            {\"name\": \"2020\", \"type\": \"number\", \"format\": \"default\" },\n",
    "            {\"name\": \"2025\", \"type\": \"number\", \"format\": \"default\" },\n",
    "            {\"name\": \"2030\", \"type\": \"number\", \"format\": \"default\" },\n",
    "            {\"name\": \"2035\", \"type\": \"number\", \"format\": \"default\" },\n",
    "            {\"name\": \"2040\", \"type\": \"number\", \"format\": \"default\" },\n",
    "            {\"name\": \"2045\", \"type\": \"number\", \"format\": \"default\" },\n",
    "            {\"name\": \"2050\", \"type\": \"number\", \"format\": \"default\" },\n",
    "            {\"name\": \"2060\", \"type\": \"number\", \"format\": \"default\" },\n",
    "            {\"name\": \"2070\", \"type\": \"number\", \"format\": \"default\" },\n",
    "            {\"name\": \"2080\", \"type\": \"number\", \"format\": \"default\" },\n",
    "            {\"name\": \"2090\", \"type\": \"number\", \"format\": \"default\" },\n",
    "            {\"name\": \"2100\", \"type\": \"number\", \"format\": \"default\" },\n",
    "        ],\n",
    "        'missingValues': ['']\n",
    "    }\n",
    "}\n",
    "\n",
    "# We define the second resource\n",
    "# we create a folder \"inventories\" where \n",
    "# we store our inventories.csv file there\n",
    "lci_bread_resource = {\n",
    "    'path': 'inventories/lci-bread.csv',\n",
    "    'profile': 'data-resource',\n",
    "    'name': 'inventories',\n",
    "    'format': 'csv',\n",
    "    'mediatype': 'text/csv',\n",
    "    'encoding': 'utf-8',\n",
    "    'schema': {\n",
    "        'fields': [\n",
    "            {'name': 'name', 'type': 'string', 'format': 'default'},\n",
    "            # ... add other fields here ...\n",
    "            {'name': 'reference product', 'type': 'string', 'format': 'default'}\n",
    "        ],\n",
    "        'missingValues': ['']\n",
    "    }\n",
    "}\n",
    "\n",
    "\n",
    "# We define the third resource\n",
    "# we create a folder \"configuration_file\" where \n",
    "# we store our config.yaml file there\n",
    "config_resource = {\n",
    "    'path': 'configuration_file/config.yaml',\n",
    "    'profile': 'data-resource',\n",
    "    'name': 'config',\n",
    "    'format': 'yaml',\n",
    "    'mediatype': 'text/yaml',\n",
    "    'encoding': 'utf-8'\n",
    "}\n",
    "\n",
    "# We declare the resources to the data package\n",
    "package.add_resource(scenario_data_resource)\n",
    "package.add_resource(lci_bread_resource)\n",
    "package.add_resource(config_resource)\n",
    "\n",
    "# Save the data package to disk\n",
    "package.save('datapackage.json')\n"
   ]
  },
  {
   "cell_type": "markdown",
   "id": "687d21b0-dd47-41b8-8688-0dbb7650c1f2",
   "metadata": {},
   "source": [
    "But, this is a bit cumbersome. To be faster, we can also let `datapackage` infer the schema of our resources. In other words, create a \"inventories\", \"scenario_data\" and \"configuration_file\" folder, and place inside them the files found here (copy the raw data and create a file with that data):\n",
    "\n",
    "* [config.yaml](https://raw.githubusercontent.com/premise-community-scenarios/scenario-example-bread/main/configuration_file/config.yaml)\n",
    "* [inventories.csv](https://raw.githubusercontent.com/premise-community-scenarios/scenario-example-bread/main/inventories/lci-bread.csv)\n",
    "* [scenario_data.csv](https://raw.githubusercontent.com/premise-community-scenarios/scenario-example-bread/main/scenario_data/scenario_data.csv)\n",
    "\n",
    "and do:"
   ]
  },
  {
   "cell_type": "code",
   "execution_count": null,
   "id": "4278c835-374d-4450-b449-053b55c2840a",
   "metadata": {},
   "outputs": [],
   "source": [
    "package.infer(\"configuration_file/config.yaml\")\n",
    "package.infer(\"inventories/lci-bread.csv\")\n",
    "package.infer(\"scenario_data/scenario_data.csv\")"
   ]
  },
  {
   "cell_type": "markdown",
   "id": "f13dbda8-fb85-4a34-8d30-537224867310",
   "metadata": {},
   "source": [
    "In theory, your datapackage is now defined, the necessary metadata is filled and the resources declared, and all the components are present for `premise` to interpret it."
   ]
  },
  {
   "cell_type": "markdown",
   "id": "4b82cab5-d391-40f1-bdc4-6984d651be21",
   "metadata": {},
   "source": [
    "Now, let's have a look at the content of these files, and when this is done, we can run it, like so:"
   ]
  },
  {
   "cell_type": "code",
   "execution_count": null,
   "id": "80ac6f31-2713-42ee-8929-5525347b2a4b",
   "metadata": {},
   "outputs": [],
   "source": [
    "from premise import *\n",
    "from datapackage import Package\n",
    "import bw2data as bw"
   ]
  },
  {
   "cell_type": "code",
   "execution_count": null,
   "id": "68f5574a-4334-4d99-b18e-076ae3b4de79",
   "metadata": {},
   "outputs": [],
   "source": [
    "bw.projects.set_current(\"new\")"
   ]
  },
  {
   "cell_type": "code",
   "execution_count": null,
   "id": "5424fda3-657a-470e-bc2f-b5237078be7e",
   "metadata": {},
   "outputs": [],
   "source": [
    "urls = [\n",
    "    \"datapackage.json\",\n",
    "]"
   ]
  },
  {
   "cell_type": "code",
   "execution_count": null,
   "id": "943e4ba8-edc7-48ac-8c91-0aeda924b2c2",
   "metadata": {},
   "outputs": [],
   "source": [
    "scenarios = [\n",
    "    {\"model\": \"image\", \"pathway\":\"SSP2-Base\", \"year\": 2030},\n",
    "    {\"model\": \"image\", \"pathway\":\"SSP2-Base\", \"year\": 2050},\n",
    "]\n",
    "\n",
    "ndb = NewDatabase(\n",
    "        scenarios = scenarios,        \n",
    "        source_db=\"ecoinvent 3.8 cutoff\",\n",
    "        source_version=\"3.8\",\n",
    "        key='tUePmX_S5B8ieZkkM7WUU2CnO8SmShwmAeWK9x2rTFo=',\n",
    "        external_scenarios=[Package(url) for url in urls]\n",
    ")"
   ]
  },
  {
   "cell_type": "code",
   "execution_count": null,
   "id": "5f921d8e-d5c9-4359-97bf-1851d986636e",
   "metadata": {},
   "outputs": [],
   "source": [
    "ndb.update_external_scenario()"
   ]
  },
  {
   "cell_type": "code",
   "execution_count": null,
   "id": "4759fbf9-848e-4bcf-8eae-b2e771e27a79",
   "metadata": {},
   "outputs": [],
   "source": [
    "ndb.write_datapackage()"
   ]
  }
 ],
 "metadata": {
  "kernelspec": {
   "display_name": "Python 3 (ipykernel)",
   "language": "python",
   "name": "python3"
  },
  "language_info": {
   "codemirror_mode": {
    "name": "ipython",
    "version": 3
   },
   "file_extension": ".py",
   "mimetype": "text/x-python",
   "name": "python",
   "nbconvert_exporter": "python",
   "pygments_lexer": "ipython3",
   "version": "3.10.12"
  }
 },
 "nbformat": 4,
 "nbformat_minor": 5
}
